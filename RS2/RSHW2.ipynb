{
 "cells": [
  {
   "cell_type": "code",
   "execution_count": 1,
   "metadata": {},
   "outputs": [],
   "source": [
    "from surprise import KNNWithMeans, KNNBasic\n",
    "from surprise import Dataset\n",
    "from surprise import accuracy\n",
    "from surprise import Reader\n",
    "from surprise.model_selection import train_test_split\n",
    "\n",
    "import pandas as pd\n",
    "from surprise.model_selection import cross_validate"
   ]
  },
  {
   "cell_type": "markdown",
   "metadata": {},
   "source": [
    "ПАКЕТ SURPRISE\n",
    "\n",
    "используйте данные MovieLens 1M\n",
    "\n",
    "можно использовать любые модели из пакета\n",
    "\n",
    "получите RMSE на тестовом сете 0.87 и ниже\n",
    "\n",
    "Комментарий преподавателя :\n",
    "В ДЗ на датасет 1М может не хватить RAM. Можно сделать на 100K. Качество RMSE предлагаю считать на основе CrossValidation (5 фолдов), а не отложенном датасете."
   ]
  },
  {
   "cell_type": "code",
   "execution_count": 2,
   "metadata": {},
   "outputs": [],
   "source": [
    "movies = pd.read_csv('movies.csv')\n",
    "ratings = pd.read_csv('ratings.csv')"
   ]
  },
  {
   "cell_type": "code",
   "execution_count": 3,
   "metadata": {},
   "outputs": [],
   "source": [
    "\n",
    "movies_with_ratings = movies.join(ratings.set_index('movieId'), on='movieId').reset_index(drop=True)\n",
    "movies_with_ratings.dropna(inplace=True)"
   ]
  },
  {
   "cell_type": "code",
   "execution_count": 4,
   "metadata": {},
   "outputs": [],
   "source": [
    "dataset = pd.DataFrame({\n",
    "    'uid': movies_with_ratings.userId,\n",
    "    'iid': movies_with_ratings.title,\n",
    "    'rating': movies_with_ratings.rating\n",
    "})"
   ]
  },
  {
   "cell_type": "code",
   "execution_count": 5,
   "metadata": {},
   "outputs": [
    {
     "data": {
      "text/html": [
       "<div>\n",
       "<style scoped>\n",
       "    .dataframe tbody tr th:only-of-type {\n",
       "        vertical-align: middle;\n",
       "    }\n",
       "\n",
       "    .dataframe tbody tr th {\n",
       "        vertical-align: top;\n",
       "    }\n",
       "\n",
       "    .dataframe thead th {\n",
       "        text-align: right;\n",
       "    }\n",
       "</style>\n",
       "<table border=\"1\" class=\"dataframe\">\n",
       "  <thead>\n",
       "    <tr style=\"text-align: right;\">\n",
       "      <th></th>\n",
       "      <th>uid</th>\n",
       "      <th>iid</th>\n",
       "      <th>rating</th>\n",
       "    </tr>\n",
       "  </thead>\n",
       "  <tbody>\n",
       "    <tr>\n",
       "      <th>16698601</th>\n",
       "      <td>1.0</td>\n",
       "      <td>Hollow Man (2000)</td>\n",
       "      <td>2.0</td>\n",
       "    </tr>\n",
       "    <tr>\n",
       "      <th>14745400</th>\n",
       "      <td>1.0</td>\n",
       "      <td>RoboCop 2 (1990)</td>\n",
       "      <td>2.5</td>\n",
       "    </tr>\n",
       "    <tr>\n",
       "      <th>6846346</th>\n",
       "      <td>1.0</td>\n",
       "      <td>Weekend at Bernie's (1989)</td>\n",
       "      <td>1.5</td>\n",
       "    </tr>\n",
       "    <tr>\n",
       "      <th>16391348</th>\n",
       "      <td>1.0</td>\n",
       "      <td>Running Man, The (1987)</td>\n",
       "      <td>3.5</td>\n",
       "    </tr>\n",
       "    <tr>\n",
       "      <th>9878107</th>\n",
       "      <td>1.0</td>\n",
       "      <td>Spawn (1997)</td>\n",
       "      <td>1.5</td>\n",
       "    </tr>\n",
       "    <tr>\n",
       "      <th>...</th>\n",
       "      <td>...</td>\n",
       "      <td>...</td>\n",
       "      <td>...</td>\n",
       "    </tr>\n",
       "    <tr>\n",
       "      <th>2064721</th>\n",
       "      <td>283228.0</td>\n",
       "      <td>Star Wars: Episode IV - A New Hope (1977)</td>\n",
       "      <td>5.0</td>\n",
       "    </tr>\n",
       "    <tr>\n",
       "      <th>19741333</th>\n",
       "      <td>283228.0</td>\n",
       "      <td>Catch Me If You Can (2002)</td>\n",
       "      <td>4.5</td>\n",
       "    </tr>\n",
       "    <tr>\n",
       "      <th>8827486</th>\n",
       "      <td>283228.0</td>\n",
       "      <td>Butch Cassidy and the Sundance Kid (1969)</td>\n",
       "      <td>4.5</td>\n",
       "    </tr>\n",
       "    <tr>\n",
       "      <th>5893806</th>\n",
       "      <td>283228.0</td>\n",
       "      <td>Philadelphia Story, The (1940)</td>\n",
       "      <td>4.5</td>\n",
       "    </tr>\n",
       "    <tr>\n",
       "      <th>18688788</th>\n",
       "      <td>283228.0</td>\n",
       "      <td>Beautiful Mind, A (2001)</td>\n",
       "      <td>4.0</td>\n",
       "    </tr>\n",
       "  </tbody>\n",
       "</table>\n",
       "<p>27753444 rows × 3 columns</p>\n",
       "</div>"
      ],
      "text/plain": [
       "               uid                                        iid  rating\n",
       "16698601       1.0                          Hollow Man (2000)     2.0\n",
       "14745400       1.0                           RoboCop 2 (1990)     2.5\n",
       "6846346        1.0                 Weekend at Bernie's (1989)     1.5\n",
       "16391348       1.0                    Running Man, The (1987)     3.5\n",
       "9878107        1.0                               Spawn (1997)     1.5\n",
       "...            ...                                        ...     ...\n",
       "2064721   283228.0  Star Wars: Episode IV - A New Hope (1977)     5.0\n",
       "19741333  283228.0                 Catch Me If You Can (2002)     4.5\n",
       "8827486   283228.0  Butch Cassidy and the Sundance Kid (1969)     4.5\n",
       "5893806   283228.0             Philadelphia Story, The (1940)     4.5\n",
       "18688788  283228.0                   Beautiful Mind, A (2001)     4.0\n",
       "\n",
       "[27753444 rows x 3 columns]"
      ]
     },
     "execution_count": 5,
     "metadata": {},
     "output_type": "execute_result"
    }
   ],
   "source": [
    "dataset = dataset.sort_values(by=['uid'])\n",
    "dataset"
   ]
  },
  {
   "cell_type": "code",
   "execution_count": 6,
   "metadata": {},
   "outputs": [
    {
     "data": {
      "text/plain": [
       "0.5"
      ]
     },
     "execution_count": 6,
     "metadata": {},
     "output_type": "execute_result"
    }
   ],
   "source": [
    "ratings.rating.min()"
   ]
  },
  {
   "cell_type": "code",
   "execution_count": 7,
   "metadata": {},
   "outputs": [
    {
     "data": {
      "text/plain": [
       "5.0"
      ]
     },
     "execution_count": 7,
     "metadata": {},
     "output_type": "execute_result"
    }
   ],
   "source": [
    "ratings.rating.max()"
   ]
  },
  {
   "cell_type": "code",
   "execution_count": 11,
   "metadata": {},
   "outputs": [
    {
     "data": {
      "text/html": [
       "<div>\n",
       "<style scoped>\n",
       "    .dataframe tbody tr th:only-of-type {\n",
       "        vertical-align: middle;\n",
       "    }\n",
       "\n",
       "    .dataframe tbody tr th {\n",
       "        vertical-align: top;\n",
       "    }\n",
       "\n",
       "    .dataframe thead th {\n",
       "        text-align: right;\n",
       "    }\n",
       "</style>\n",
       "<table border=\"1\" class=\"dataframe\">\n",
       "  <thead>\n",
       "    <tr style=\"text-align: right;\">\n",
       "      <th></th>\n",
       "      <th>uid</th>\n",
       "      <th>iid</th>\n",
       "      <th>rating</th>\n",
       "    </tr>\n",
       "  </thead>\n",
       "  <tbody>\n",
       "    <tr>\n",
       "      <th>23440156</th>\n",
       "      <td>277775.0</td>\n",
       "      <td>\"Great Performances\" Cats (1998)</td>\n",
       "      <td>0.5</td>\n",
       "    </tr>\n",
       "    <tr>\n",
       "      <th>23440105</th>\n",
       "      <td>222307.0</td>\n",
       "      <td>\"Great Performances\" Cats (1998)</td>\n",
       "      <td>0.5</td>\n",
       "    </tr>\n",
       "    <tr>\n",
       "      <th>23440141</th>\n",
       "      <td>261872.0</td>\n",
       "      <td>\"Great Performances\" Cats (1998)</td>\n",
       "      <td>3.0</td>\n",
       "    </tr>\n",
       "    <tr>\n",
       "      <th>23440023</th>\n",
       "      <td>109040.0</td>\n",
       "      <td>\"Great Performances\" Cats (1998)</td>\n",
       "      <td>2.5</td>\n",
       "    </tr>\n",
       "    <tr>\n",
       "      <th>23440121</th>\n",
       "      <td>236981.0</td>\n",
       "      <td>\"Great Performances\" Cats (1998)</td>\n",
       "      <td>4.0</td>\n",
       "    </tr>\n",
       "    <tr>\n",
       "      <th>...</th>\n",
       "      <td>...</td>\n",
       "      <td>...</td>\n",
       "      <td>...</td>\n",
       "    </tr>\n",
       "    <tr>\n",
       "      <th>27186232</th>\n",
       "      <td>215605.0</td>\n",
       "      <td>貞子3D (2012)</td>\n",
       "      <td>0.5</td>\n",
       "    </tr>\n",
       "    <tr>\n",
       "      <th>27186229</th>\n",
       "      <td>183200.0</td>\n",
       "      <td>貞子3D (2012)</td>\n",
       "      <td>1.0</td>\n",
       "    </tr>\n",
       "    <tr>\n",
       "      <th>27186233</th>\n",
       "      <td>215651.0</td>\n",
       "      <td>貞子3D (2012)</td>\n",
       "      <td>3.0</td>\n",
       "    </tr>\n",
       "    <tr>\n",
       "      <th>27476241</th>\n",
       "      <td>132769.0</td>\n",
       "      <td>줄탁동시 (2012)</td>\n",
       "      <td>5.0</td>\n",
       "    </tr>\n",
       "    <tr>\n",
       "      <th>27476240</th>\n",
       "      <td>123100.0</td>\n",
       "      <td>줄탁동시 (2012)</td>\n",
       "      <td>3.0</td>\n",
       "    </tr>\n",
       "  </tbody>\n",
       "</table>\n",
       "<p>27753444 rows × 3 columns</p>\n",
       "</div>"
      ],
      "text/plain": [
       "               uid                               iid  rating\n",
       "23440156  277775.0  \"Great Performances\" Cats (1998)     0.5\n",
       "23440105  222307.0  \"Great Performances\" Cats (1998)     0.5\n",
       "23440141  261872.0  \"Great Performances\" Cats (1998)     3.0\n",
       "23440023  109040.0  \"Great Performances\" Cats (1998)     2.5\n",
       "23440121  236981.0  \"Great Performances\" Cats (1998)     4.0\n",
       "...            ...                               ...     ...\n",
       "27186232  215605.0                       貞子3D (2012)     0.5\n",
       "27186229  183200.0                       貞子3D (2012)     1.0\n",
       "27186233  215651.0                       貞子3D (2012)     3.0\n",
       "27476241  132769.0                       줄탁동시 (2012)     5.0\n",
       "27476240  123100.0                       줄탁동시 (2012)     3.0\n",
       "\n",
       "[27753444 rows x 3 columns]"
      ]
     },
     "execution_count": 11,
     "metadata": {},
     "output_type": "execute_result"
    }
   ],
   "source": [
    "dataset_id = dataset.sort_values(by=['iid'])\n",
    "dataset_id"
   ]
  },
  {
   "cell_type": "code",
   "execution_count": 14,
   "metadata": {},
   "outputs": [
    {
     "data": {
      "text/plain": [
       "123100.0    2364\n",
       "117490.0     911\n",
       "212343.0     790\n",
       "134596.0     772\n",
       "242683.0     715\n",
       "            ... \n",
       "59926.0        1\n",
       "274882.0       1\n",
       "59928.0        1\n",
       "170558.0       1\n",
       "40263.0        1\n",
       "Name: uid, Length: 235202, dtype: int64"
      ]
     },
     "execution_count": 14,
     "metadata": {},
     "output_type": "execute_result"
    }
   ],
   "source": [
    "new_dataset_id = dataset_id[:3000000]\n",
    "new_dataset_id.uid.value_counts()"
   ]
  },
  {
   "cell_type": "code",
   "execution_count": 15,
   "metadata": {},
   "outputs": [
    {
     "data": {
      "text/plain": [
       "American Beauty (1999)                                                                      60820\n",
       "Apollo 13 (1995)                                                                            58665\n",
       "Back to the Future (1985)                                                                   57492\n",
       "Batman (1989)                                                                               54448\n",
       "Aladdin (1992)                                                                              51839\n",
       "                                                                                            ...  \n",
       "Basta guardarla (1970)                                                                          1\n",
       "Argo (2004)                                                                                     1\n",
       "Bailout at 43,000 (1957)                                                                        1\n",
       "All Blossoms Again: Pedro Costa, Director (Tout refleurit: Pedro Costa, cinéaste) (2006)        1\n",
       "A River of Waste: The Hazardous Truth About Factory Farms (2009)                                1\n",
       "Name: iid, Length: 5478, dtype: int64"
      ]
     },
     "execution_count": 15,
     "metadata": {},
     "output_type": "execute_result"
    }
   ],
   "source": [
    "\n",
    "new_dataset_id.iid.value_counts()"
   ]
  },
  {
   "cell_type": "code",
   "execution_count": 16,
   "metadata": {},
   "outputs": [],
   "source": [
    "reader = Reader(rating_scale=(0.5, 5.0))\n",
    "data = Dataset.load_from_df(new_dataset_id, reader)"
   ]
  },
  {
   "cell_type": "code",
   "execution_count": 24,
   "metadata": {},
   "outputs": [],
   "source": [
    "trainset, testset = train_test_split(data, test_size=.05)"
   ]
  },
  {
   "cell_type": "code",
   "execution_count": 37,
   "metadata": {},
   "outputs": [],
   "source": [
    "\n",
    "algo_2 = KNNWithMeans(k=15, sim_options={'name': 'pearson_baseline', 'user_based': False})"
   ]
  },
  {
   "cell_type": "code",
   "execution_count": 38,
   "metadata": {},
   "outputs": [
    {
     "name": "stdout",
     "output_type": "stream",
     "text": [
      "Estimating biases using als...\n",
      "Computing the pearson_baseline similarity matrix...\n",
      "Done computing similarity matrix.\n"
     ]
    },
    {
     "data": {
      "text/plain": [
       "<surprise.prediction_algorithms.knns.KNNWithMeans at 0x18dfc0788>"
      ]
     },
     "execution_count": 38,
     "metadata": {},
     "output_type": "execute_result"
    }
   ],
   "source": [
    "\n",
    "algo_2.fit(trainset)"
   ]
  },
  {
   "cell_type": "code",
   "execution_count": 39,
   "metadata": {},
   "outputs": [],
   "source": [
    "\n",
    "test_pred = algo_2.test(testset)"
   ]
  },
  {
   "cell_type": "code",
   "execution_count": 40,
   "metadata": {},
   "outputs": [
    {
     "name": "stdout",
     "output_type": "stream",
     "text": [
      "RMSE: 0.8680\n"
     ]
    },
    {
     "data": {
      "text/plain": [
       "0.8680371264685356"
      ]
     },
     "execution_count": 40,
     "metadata": {},
     "output_type": "execute_result"
    }
   ],
   "source": [
    "accuracy.rmse(test_pred, verbose=True)"
   ]
  },
  {
   "cell_type": "code",
   "execution_count": 41,
   "metadata": {},
   "outputs": [
    {
     "name": "stdout",
     "output_type": "stream",
     "text": [
      "Estimating biases using als...\n",
      "Computing the pearson_baseline similarity matrix...\n",
      "Done computing similarity matrix.\n",
      "Estimating biases using als...\n",
      "Computing the pearson_baseline similarity matrix...\n",
      "Done computing similarity matrix.\n",
      "Estimating biases using als...\n",
      "Computing the pearson_baseline similarity matrix...\n",
      "Done computing similarity matrix.\n",
      "Estimating biases using als...\n",
      "Computing the pearson_baseline similarity matrix...\n",
      "Done computing similarity matrix.\n",
      "Estimating biases using als...\n",
      "Computing the pearson_baseline similarity matrix...\n",
      "Done computing similarity matrix.\n",
      "Evaluating RMSE of algorithm KNNWithMeans on 5 split(s).\n",
      "\n",
      "                  Fold 1  Fold 2  Fold 3  Fold 4  Fold 5  Mean    Std     \n",
      "RMSE (testset)    0.8835  0.8845  0.8841  0.8855  0.8834  0.8842  0.0007  \n",
      "Fit time          37.96   36.37   35.47   33.89   37.26   36.19   1.42    \n",
      "Test time         47.32   47.06   44.73   46.56   46.57   46.45   0.91    \n"
     ]
    },
    {
     "data": {
      "text/plain": [
       "{'test_rmse': array([0.88354097, 0.88450314, 0.88414148, 0.88545713, 0.88340878]),\n",
       " 'fit_time': (37.95917105674744,\n",
       "  36.36908030509949,\n",
       "  35.465028524398804,\n",
       "  33.89393877983093,\n",
       "  37.261131286621094),\n",
       " 'test_time': (47.3197066783905,\n",
       "  47.060691833496094,\n",
       "  44.72955846786499,\n",
       "  46.55866289138794,\n",
       "  46.57366394996643)}"
      ]
     },
     "execution_count": 41,
     "metadata": {},
     "output_type": "execute_result"
    }
   ],
   "source": [
    "cross_validate(algo_2, data, measures=['RMSE'], cv=5, verbose=True)"
   ]
  },
  {
   "cell_type": "code",
   "execution_count": null,
   "metadata": {},
   "outputs": [],
   "source": []
  }
 ],
 "metadata": {
  "kernelspec": {
   "display_name": "Python 3",
   "language": "python",
   "name": "python3"
  },
  "language_info": {
   "codemirror_mode": {
    "name": "ipython",
    "version": 3
   },
   "file_extension": ".py",
   "mimetype": "text/x-python",
   "name": "python",
   "nbconvert_exporter": "python",
   "pygments_lexer": "ipython3",
   "version": "3.7.6"
  }
 },
 "nbformat": 4,
 "nbformat_minor": 4
}
