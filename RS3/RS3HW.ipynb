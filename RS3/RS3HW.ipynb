{
 "cells": [
  {
   "cell_type": "markdown",
   "metadata": {},
   "source": [
    "Что делать?\n",
    "\n",
    "1.Датасет ml-latest\n",
    "\n",
    "2.Вспомнить подходы, которые мы разбирали\n",
    "\n",
    "3.Выбрать понравившийся подход к гибридным системам\n",
    "\n",
    "4.Написать свою"
   ]
  },
  {
   "cell_type": "code",
   "execution_count": 12,
   "metadata": {},
   "outputs": [],
   "source": [
    "from surprise import SVD, SVDpp\n",
    "from surprise import Dataset\n",
    "from surprise import accuracy\n",
    "from surprise import Reader\n",
    "from surprise.model_selection import train_test_split\n",
    "from surprise import KNNWithMeans\n",
    "\n",
    "\n",
    "import matplotlib.pyplot as plt\n",
    "\n",
    "from tqdm import tqdm_notebook\n",
    "\n",
    "from sklearn.feature_extraction.text import TfidfTransformer, CountVectorizer\n",
    "from sklearn.neighbors import NearestNeighbors\n",
    "\n",
    "import pandas as pd\n",
    "import numpy as np\n",
    "\n",
    "from scipy.spatial.distance import correlation"
   ]
  },
  {
   "cell_type": "code",
   "execution_count": 2,
   "metadata": {},
   "outputs": [],
   "source": [
    "links = pd.read_csv('links.csv')\n",
    "movies = pd.read_csv('movies.csv')\n",
    "ratings = pd.read_csv('ratings.csv')\n",
    "tags = pd.read_csv('tags.csv')"
   ]
  },
  {
   "cell_type": "code",
   "execution_count": 3,
   "metadata": {},
   "outputs": [],
   "source": [
    "movies_with_ratings = movies.join(ratings.set_index('movieId'), on='movieId').reset_index(drop=True)\n",
    "movies_with_ratings.dropna(inplace=True)"
   ]
  },
  {
   "cell_type": "code",
   "execution_count": 4,
   "metadata": {},
   "outputs": [],
   "source": [
    "dataset = pd.DataFrame({\n",
    "    'uid': movies_with_ratings.userId,\n",
    "    'iid': movies_with_ratings.title,\n",
    "    'rating': movies_with_ratings.rating\n",
    "})"
   ]
  },
  {
   "cell_type": "code",
   "execution_count": 28,
   "metadata": {},
   "outputs": [],
   "source": [
    "#определяем топ фильмы отдельного пользователя\n",
    "def ret_user_fav_films(userid, dataset):\n",
    "    return dataset.loc[(dataset['userId'] == userid) & (dataset['rating'] == 5.0)].movieId.tolist()\n",
    "\n",
    "\n",
    "#Создаем матрицу векторов с оценками для каждого фильма\n",
    "def movie_vectorizer(dataset):\n",
    "    qty_users = dataset.userId.unique().shape[0]\n",
    "    movie_vector = {}\n",
    "\n",
    "    for movie, group in dataset.groupby('movieId'):\n",
    "        movie_vector[movie] = np.zeros(qty_users)\n",
    "    \n",
    "        for i in range(len(group.userId.values)):\n",
    "            user = group.userId.values[i]\n",
    "            rating = group.rating.values[i]\n",
    "            movie_vector[movie][int(user - 1)] = rating\n",
    "     \n",
    "    return movie_vector  \n",
    "\n",
    "\n",
    "#Первая рекомендация\n",
    "def movies_recommend(my_fav_films, vector, size=10):\n",
    "    full_movies_list = []\n",
    "    for i in my_fav_films:\n",
    "        titles = []\n",
    "        distances = []\n",
    "        for key in vector.keys():\n",
    "            if key == i:\n",
    "                continue\n",
    "                \n",
    "            titles.append(key)\n",
    "            distances.append(correlation(vector[i], vector[key]))\n",
    "        \n",
    "        best_indexes = np.argsort(distances)[:size]\n",
    "        best_movies = [(titles[z]) for z in best_indexes]\n",
    "        full_movies_list.extend(best_movies)\n",
    "\n",
    "    return list(set(full_movies_list) - set(my_fav_films))\n",
    "\n",
    "\n",
    "#Вторая рекомендация\n",
    "\n",
    "def make_rec(dataset, user_id, size=5):\n",
    "    mov_id = []\n",
    "    est = []\n",
    "    for mov in dataset.iid.unique():\n",
    "        mov_id.append(mov)\n",
    "        est.append(algo.predict(uid=user_id, iid=mov).est)\n",
    "\n",
    "        best_ind = np.argsort(est)[-size:]\n",
    "        best_mov = [(mov_id[b]) for b in best_ind]\n",
    "    return best_mov"
   ]
  },
  {
   "cell_type": "code",
   "execution_count": 29,
   "metadata": {},
   "outputs": [],
   "source": [
    "#Запускаем систему:\n",
    "user_films = ret_user_fav_films(20.0, movies_with_ratings)\n",
    "\n",
    "movie_vector = movie_vectorizer(movies_with_ratings)\n",
    "\n",
    "rec_movies_list = movies_recommend(user_films, movie_vector, 15)\n",
    "\n",
    "user_rec_movies = movies_with_ratings.loc[movies_with_ratings.movieId.isin(rec_movies_list)]"
   ]
  },
  {
   "cell_type": "code",
   "execution_count": 30,
   "metadata": {},
   "outputs": [
    {
     "name": "stdout",
     "output_type": "stream",
     "text": [
      "Estimating biases using als...\n",
      "Computing the pearson_baseline similarity matrix...\n",
      "Done computing similarity matrix.\n"
     ]
    },
    {
     "data": {
      "text/plain": [
       "<surprise.prediction_algorithms.knns.KNNWithMeans at 0x1b19cb08>"
      ]
     },
     "execution_count": 30,
     "metadata": {},
     "output_type": "execute_result"
    }
   ],
   "source": [
    "#Подготовим данные для модели и обучим модель\n",
    "dataset = pd.DataFrame({\n",
    "    'uid': user_rec_movies.userId,\n",
    "    'iid': user_rec_movies.movieId,\n",
    "    'rating': user_rec_movies.rating\n",
    "})\n",
    "\n",
    "reader = Reader(rating_scale=(ratings.rating.min(), ratings.rating.max()))\n",
    "data = Dataset.load_from_df(dataset, reader)\n",
    "\n",
    "trainset = data.build_full_trainset()\n",
    "\n",
    "algo = KNNWithMeans(k=50, sim_options={'name': 'pearson_baseline', 'user_based': True})\n",
    "algo.fit(trainset)"
   ]
  },
  {
   "cell_type": "code",
   "execution_count": 31,
   "metadata": {},
   "outputs": [
    {
     "data": {
      "text/plain": [
       "[3147, 1196, 4720, 3606, 4380]"
      ]
     },
     "execution_count": 31,
     "metadata": {},
     "output_type": "execute_result"
    }
   ],
   "source": [
    "\n",
    "best_rec_mov = make_rec(dataset, 15)\n",
    "best_rec_mov"
   ]
  },
  {
   "cell_type": "code",
   "execution_count": 32,
   "metadata": {},
   "outputs": [
    {
     "data": {
      "text/html": [
       "<div>\n",
       "<style scoped>\n",
       "    .dataframe tbody tr th:only-of-type {\n",
       "        vertical-align: middle;\n",
       "    }\n",
       "\n",
       "    .dataframe tbody tr th {\n",
       "        vertical-align: top;\n",
       "    }\n",
       "\n",
       "    .dataframe thead th {\n",
       "        text-align: right;\n",
       "    }\n",
       "</style>\n",
       "<table border=\"1\" class=\"dataframe\">\n",
       "  <thead>\n",
       "    <tr style=\"text-align: right;\">\n",
       "      <th></th>\n",
       "      <th>movieId</th>\n",
       "      <th>title</th>\n",
       "      <th>genres</th>\n",
       "    </tr>\n",
       "  </thead>\n",
       "  <tbody>\n",
       "    <tr>\n",
       "      <th>898</th>\n",
       "      <td>1196</td>\n",
       "      <td>Star Wars: Episode V - The Empire Strikes Back...</td>\n",
       "      <td>Action|Adventure|Sci-Fi</td>\n",
       "    </tr>\n",
       "    <tr>\n",
       "      <th>2372</th>\n",
       "      <td>3147</td>\n",
       "      <td>Green Mile, The (1999)</td>\n",
       "      <td>Crime|Drama</td>\n",
       "    </tr>\n",
       "    <tr>\n",
       "      <th>2690</th>\n",
       "      <td>3606</td>\n",
       "      <td>On the Town (1949)</td>\n",
       "      <td>Comedy|Musical|Romance</td>\n",
       "    </tr>\n",
       "    <tr>\n",
       "      <th>3240</th>\n",
       "      <td>4380</td>\n",
       "      <td>Princess and the Warrior, The (Krieger und die...</td>\n",
       "      <td>Drama|Romance</td>\n",
       "    </tr>\n",
       "    <tr>\n",
       "      <th>3461</th>\n",
       "      <td>4720</td>\n",
       "      <td>Others, The (2001)</td>\n",
       "      <td>Drama|Horror|Mystery|Thriller</td>\n",
       "    </tr>\n",
       "  </tbody>\n",
       "</table>\n",
       "</div>"
      ],
      "text/plain": [
       "      movieId                                              title  \\\n",
       "898      1196  Star Wars: Episode V - The Empire Strikes Back...   \n",
       "2372     3147                             Green Mile, The (1999)   \n",
       "2690     3606                                 On the Town (1949)   \n",
       "3240     4380  Princess and the Warrior, The (Krieger und die...   \n",
       "3461     4720                                 Others, The (2001)   \n",
       "\n",
       "                             genres  \n",
       "898         Action|Adventure|Sci-Fi  \n",
       "2372                    Crime|Drama  \n",
       "2690         Comedy|Musical|Romance  \n",
       "3240                  Drama|Romance  \n",
       "3461  Drama|Horror|Mystery|Thriller  "
      ]
     },
     "execution_count": 32,
     "metadata": {},
     "output_type": "execute_result"
    }
   ],
   "source": [
    "\n",
    "\n",
    "recommended_movies_for_user = movies.loc[movies.movieId.isin(best_rec_mov)]\n",
    "recommended_movies_for_user"
   ]
  },
  {
   "cell_type": "code",
   "execution_count": null,
   "metadata": {},
   "outputs": [],
   "source": []
  },
  {
   "cell_type": "code",
   "execution_count": null,
   "metadata": {},
   "outputs": [],
   "source": []
  }
 ],
 "metadata": {
  "kernelspec": {
   "display_name": "Python 3",
   "language": "python",
   "name": "python3"
  },
  "language_info": {
   "codemirror_mode": {
    "name": "ipython",
    "version": 3
   },
   "file_extension": ".py",
   "mimetype": "text/x-python",
   "name": "python",
   "nbconvert_exporter": "python",
   "pygments_lexer": "ipython3",
   "version": "3.7.6"
  }
 },
 "nbformat": 4,
 "nbformat_minor": 4
}
