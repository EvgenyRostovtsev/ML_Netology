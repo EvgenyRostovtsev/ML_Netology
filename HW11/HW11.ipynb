{
 "cells": [
  {
   "cell_type": "markdown",
   "metadata": {},
   "source": [
    "# Домашняя работа\n",
    "Взять boston house-prices datase (sklearn.datasets.load_boston). Возмите 7 любых  регрессоров (попробовать разные алгоритмы, поподбирать параметры, вывести итоговое качество)."
   ]
  },
  {
   "cell_type": "code",
   "execution_count": 42,
   "metadata": {},
   "outputs": [],
   "source": [
    "\n",
    "from sklearn import datasets\n",
    "from matplotlib import pyplot as plt\n",
    "from sklearn.preprocessing import StandardScaler\n",
    "from sklearn.model_selection import train_test_split, GridSearchCV\n",
    "from sklearn.linear_model import Lasso, Ridge, HuberRegressor, ElasticNet\n",
    "from sklearn.tree import DecisionTreeRegressor\n",
    "from sklearn.linear_model import LinearRegression\n",
    "from sklearn.linear_model import BayesianRidge, OrthogonalMatchingPursuit, LassoLars\n",
    "\n",
    "%matplotlib inline\n",
    "import numpy as np\n",
    "import pandas as pd\n",
    "import random\n",
    "from jupyterthemes import jtplot\n",
    "jtplot.style()"
   ]
  },
  {
   "cell_type": "code",
   "execution_count": 3,
   "metadata": {},
   "outputs": [
    {
     "name": "stdout",
     "output_type": "stream",
     "text": [
      ".. _boston_dataset:\n",
      "\n",
      "Boston house prices dataset\n",
      "---------------------------\n",
      "\n",
      "**Data Set Characteristics:**  \n",
      "\n",
      "    :Number of Instances: 506 \n",
      "\n",
      "    :Number of Attributes: 13 numeric/categorical predictive. Median Value (attribute 14) is usually the target.\n",
      "\n",
      "    :Attribute Information (in order):\n",
      "        - CRIM     per capita crime rate by town\n",
      "        - ZN       proportion of residential land zoned for lots over 25,000 sq.ft.\n",
      "        - INDUS    proportion of non-retail business acres per town\n",
      "        - CHAS     Charles River dummy variable (= 1 if tract bounds river; 0 otherwise)\n",
      "        - NOX      nitric oxides concentration (parts per 10 million)\n",
      "        - RM       average number of rooms per dwelling\n",
      "        - AGE      proportion of owner-occupied units built prior to 1940\n",
      "        - DIS      weighted distances to five Boston employment centres\n",
      "        - RAD      index of accessibility to radial highways\n",
      "        - TAX      full-value property-tax rate per $10,000\n",
      "        - PTRATIO  pupil-teacher ratio by town\n",
      "        - B        1000(Bk - 0.63)^2 where Bk is the proportion of blacks by town\n",
      "        - LSTAT    % lower status of the population\n",
      "        - MEDV     Median value of owner-occupied homes in $1000's\n",
      "\n",
      "    :Missing Attribute Values: None\n",
      "\n",
      "    :Creator: Harrison, D. and Rubinfeld, D.L.\n",
      "\n",
      "This is a copy of UCI ML housing dataset.\n",
      "https://archive.ics.uci.edu/ml/machine-learning-databases/housing/\n",
      "\n",
      "\n",
      "This dataset was taken from the StatLib library which is maintained at Carnegie Mellon University.\n",
      "\n",
      "The Boston house-price data of Harrison, D. and Rubinfeld, D.L. 'Hedonic\n",
      "prices and the demand for clean air', J. Environ. Economics & Management,\n",
      "vol.5, 81-102, 1978.   Used in Belsley, Kuh & Welsch, 'Regression diagnostics\n",
      "...', Wiley, 1980.   N.B. Various transformations are used in the table on\n",
      "pages 244-261 of the latter.\n",
      "\n",
      "The Boston house-price data has been used in many machine learning papers that address regression\n",
      "problems.   \n",
      "     \n",
      ".. topic:: References\n",
      "\n",
      "   - Belsley, Kuh & Welsch, 'Regression diagnostics: Identifying Influential Data and Sources of Collinearity', Wiley, 1980. 244-261.\n",
      "   - Quinlan,R. (1993). Combining Instance-Based and Model-Based Learning. In Proceedings on the Tenth International Conference of Machine Learning, 236-243, University of Massachusetts, Amherst. Morgan Kaufmann.\n",
      "\n"
     ]
    }
   ],
   "source": [
    "boston = datasets.load_boston()\n",
    "print(boston.DESCR)"
   ]
  },
  {
   "cell_type": "code",
   "execution_count": 5,
   "metadata": {},
   "outputs": [
    {
     "data": {
      "text/html": [
       "<div>\n",
       "<style scoped>\n",
       "    .dataframe tbody tr th:only-of-type {\n",
       "        vertical-align: middle;\n",
       "    }\n",
       "\n",
       "    .dataframe tbody tr th {\n",
       "        vertical-align: top;\n",
       "    }\n",
       "\n",
       "    .dataframe thead th {\n",
       "        text-align: right;\n",
       "    }\n",
       "</style>\n",
       "<table border=\"1\" class=\"dataframe\">\n",
       "  <thead>\n",
       "    <tr style=\"text-align: right;\">\n",
       "      <th></th>\n",
       "      <th>CRIM</th>\n",
       "      <th>ZN</th>\n",
       "      <th>INDUS</th>\n",
       "      <th>CHAS</th>\n",
       "      <th>NOX</th>\n",
       "      <th>RM</th>\n",
       "      <th>AGE</th>\n",
       "      <th>DIS</th>\n",
       "      <th>RAD</th>\n",
       "      <th>TAX</th>\n",
       "      <th>PTRATIO</th>\n",
       "      <th>B</th>\n",
       "      <th>LSTAT</th>\n",
       "    </tr>\n",
       "  </thead>\n",
       "  <tbody>\n",
       "    <tr>\n",
       "      <th>0</th>\n",
       "      <td>0.00632</td>\n",
       "      <td>18.0</td>\n",
       "      <td>2.31</td>\n",
       "      <td>0.0</td>\n",
       "      <td>0.538</td>\n",
       "      <td>6.575</td>\n",
       "      <td>65.2</td>\n",
       "      <td>4.0900</td>\n",
       "      <td>1.0</td>\n",
       "      <td>296.0</td>\n",
       "      <td>15.3</td>\n",
       "      <td>396.90</td>\n",
       "      <td>4.98</td>\n",
       "    </tr>\n",
       "    <tr>\n",
       "      <th>1</th>\n",
       "      <td>0.02731</td>\n",
       "      <td>0.0</td>\n",
       "      <td>7.07</td>\n",
       "      <td>0.0</td>\n",
       "      <td>0.469</td>\n",
       "      <td>6.421</td>\n",
       "      <td>78.9</td>\n",
       "      <td>4.9671</td>\n",
       "      <td>2.0</td>\n",
       "      <td>242.0</td>\n",
       "      <td>17.8</td>\n",
       "      <td>396.90</td>\n",
       "      <td>9.14</td>\n",
       "    </tr>\n",
       "    <tr>\n",
       "      <th>2</th>\n",
       "      <td>0.02729</td>\n",
       "      <td>0.0</td>\n",
       "      <td>7.07</td>\n",
       "      <td>0.0</td>\n",
       "      <td>0.469</td>\n",
       "      <td>7.185</td>\n",
       "      <td>61.1</td>\n",
       "      <td>4.9671</td>\n",
       "      <td>2.0</td>\n",
       "      <td>242.0</td>\n",
       "      <td>17.8</td>\n",
       "      <td>392.83</td>\n",
       "      <td>4.03</td>\n",
       "    </tr>\n",
       "    <tr>\n",
       "      <th>3</th>\n",
       "      <td>0.03237</td>\n",
       "      <td>0.0</td>\n",
       "      <td>2.18</td>\n",
       "      <td>0.0</td>\n",
       "      <td>0.458</td>\n",
       "      <td>6.998</td>\n",
       "      <td>45.8</td>\n",
       "      <td>6.0622</td>\n",
       "      <td>3.0</td>\n",
       "      <td>222.0</td>\n",
       "      <td>18.7</td>\n",
       "      <td>394.63</td>\n",
       "      <td>2.94</td>\n",
       "    </tr>\n",
       "    <tr>\n",
       "      <th>4</th>\n",
       "      <td>0.06905</td>\n",
       "      <td>0.0</td>\n",
       "      <td>2.18</td>\n",
       "      <td>0.0</td>\n",
       "      <td>0.458</td>\n",
       "      <td>7.147</td>\n",
       "      <td>54.2</td>\n",
       "      <td>6.0622</td>\n",
       "      <td>3.0</td>\n",
       "      <td>222.0</td>\n",
       "      <td>18.7</td>\n",
       "      <td>396.90</td>\n",
       "      <td>5.33</td>\n",
       "    </tr>\n",
       "  </tbody>\n",
       "</table>\n",
       "</div>"
      ],
      "text/plain": [
       "      CRIM    ZN  INDUS  CHAS    NOX     RM   AGE     DIS  RAD    TAX  \\\n",
       "0  0.00632  18.0   2.31   0.0  0.538  6.575  65.2  4.0900  1.0  296.0   \n",
       "1  0.02731   0.0   7.07   0.0  0.469  6.421  78.9  4.9671  2.0  242.0   \n",
       "2  0.02729   0.0   7.07   0.0  0.469  7.185  61.1  4.9671  2.0  242.0   \n",
       "3  0.03237   0.0   2.18   0.0  0.458  6.998  45.8  6.0622  3.0  222.0   \n",
       "4  0.06905   0.0   2.18   0.0  0.458  7.147  54.2  6.0622  3.0  222.0   \n",
       "\n",
       "   PTRATIO       B  LSTAT  \n",
       "0     15.3  396.90   4.98  \n",
       "1     17.8  396.90   9.14  \n",
       "2     17.8  392.83   4.03  \n",
       "3     18.7  394.63   2.94  \n",
       "4     18.7  396.90   5.33  "
      ]
     },
     "execution_count": 5,
     "metadata": {},
     "output_type": "execute_result"
    }
   ],
   "source": [
    "df = pd.DataFrame(boston.data, columns=boston.feature_names)\n",
    "df.head(5)"
   ]
  },
  {
   "cell_type": "code",
   "execution_count": 6,
   "metadata": {},
   "outputs": [],
   "source": [
    "X, y = boston['data'], boston['target']"
   ]
  },
  {
   "cell_type": "code",
   "execution_count": 7,
   "metadata": {},
   "outputs": [],
   "source": [
    "# На валидацию откладываем 20%\n",
    "X_train, X_valid, y_train, y_valid = train_test_split(X, y, test_size=0.2)"
   ]
  },
  {
   "cell_type": "code",
   "execution_count": 8,
   "metadata": {},
   "outputs": [],
   "source": [
    "sc = StandardScaler()\n",
    "X_train = sc.fit_transform(X_train)\n",
    "X_valid = sc.transform(X_valid)"
   ]
  },
  {
   "cell_type": "code",
   "execution_count": null,
   "metadata": {},
   "outputs": [],
   "source": []
  },
  {
   "cell_type": "code",
   "execution_count": 9,
   "metadata": {},
   "outputs": [],
   "source": [
    "#Лассо регрессия\n",
    "lasso_reg = Lasso()"
   ]
  },
  {
   "cell_type": "code",
   "execution_count": 10,
   "metadata": {},
   "outputs": [
    {
     "name": "stdout",
     "output_type": "stream",
     "text": [
      "Fitting 10 folds for each of 1000 candidates, totalling 10000 fits\n"
     ]
    },
    {
     "name": "stderr",
     "output_type": "stream",
     "text": [
      "[Parallel(n_jobs=-1)]: Using backend LokyBackend with 4 concurrent workers.\n",
      "[Parallel(n_jobs=-1)]: Done  38 tasks      | elapsed:    1.8s\n",
      "[Parallel(n_jobs=-1)]: Done 6028 tasks      | elapsed:    6.4s\n",
      "[Parallel(n_jobs=-1)]: Done 10000 out of 10000 | elapsed:    8.4s finished\n"
     ]
    },
    {
     "data": {
      "text/plain": [
       "GridSearchCV(cv=10, estimator=Lasso(), n_jobs=-1,\n",
       "             param_grid={'alpha': array([1.00000000e-07, 1.02096066e-07, 1.04236067e-07, 1.06420924e-07,\n",
       "       1.08651577e-07, 1.10928986e-07, 1.13254132e-07, 1.15628013e-07,\n",
       "       1.18051653e-07, 1.20526094e-07, 1.23052400e-07, 1.25631660e-07,\n",
       "       1.28264983e-07, 1.30953502e-07, 1.33698374e-07, 1.36500781e-07,\n",
       "       1.39361927e-07, 1.42283046e-07, 1.4526...\n",
       "       6.20572881e+01, 6.33580499e+01, 6.46860766e+01, 6.60419396e+01,\n",
       "       6.74262224e+01, 6.88395207e+01, 7.02824426e+01, 7.17556092e+01,\n",
       "       7.32596543e+01, 7.47952252e+01, 7.63629826e+01, 7.79636013e+01,\n",
       "       7.95977700e+01, 8.12661920e+01, 8.29695852e+01, 8.47086827e+01,\n",
       "       8.64842328e+01, 8.82969996e+01, 9.01477631e+01, 9.20373200e+01,\n",
       "       9.39664831e+01, 9.59360829e+01, 9.79469667e+01, 1.00000000e+02])},\n",
       "             verbose=2)"
      ]
     },
     "execution_count": 10,
     "metadata": {},
     "output_type": "execute_result"
    }
   ],
   "source": [
    "\n",
    "# Для лассо только один параметр можно подобрать - альфа\n",
    "lasso_params = {\n",
    "    'alpha': np.logspace(-7, 2, 1000)\n",
    "}\n",
    "grid_lasso = GridSearchCV(lasso_reg, lasso_params, cv=10, verbose=2, n_jobs=-1)\n",
    "grid_lasso.fit(X_train, y_train)"
   ]
  },
  {
   "cell_type": "code",
   "execution_count": 11,
   "metadata": {},
   "outputs": [
    {
     "name": "stdout",
     "output_type": "stream",
     "text": [
      "{'alpha': 0.025966559729348724}\n",
      "0.7025855205825211\n",
      "Lasso(alpha=0.025966559729348724)\n"
     ]
    }
   ],
   "source": [
    "print(grid_lasso.best_params_)\n",
    "print(grid_lasso.best_score_)\n",
    "print(grid_lasso.best_estimator_)"
   ]
  },
  {
   "cell_type": "code",
   "execution_count": 12,
   "metadata": {},
   "outputs": [],
   "source": [
    "#Ридж регрессия\n",
    "\n",
    "\n",
    "rige_reg = Ridge()\n"
   ]
  },
  {
   "cell_type": "code",
   "execution_count": 13,
   "metadata": {},
   "outputs": [
    {
     "name": "stdout",
     "output_type": "stream",
     "text": [
      "Fitting 10 folds for each of 6000 candidates, totalling 60000 fits\n"
     ]
    },
    {
     "name": "stderr",
     "output_type": "stream",
     "text": [
      "[Parallel(n_jobs=-1)]: Using backend LokyBackend with 4 concurrent workers.\n",
      "[Parallel(n_jobs=-1)]: Done 136 tasks      | elapsed:    0.1s\n",
      "[Parallel(n_jobs=-1)]: Done 7288 tasks      | elapsed:    8.0s\n",
      "[Parallel(n_jobs=-1)]: Done 20280 tasks      | elapsed:   18.6s\n",
      "[Parallel(n_jobs=-1)]: Done 38392 tasks      | elapsed:   33.3s\n",
      "[Parallel(n_jobs=-1)]: Done 59892 tasks      | elapsed:   49.9s\n",
      "[Parallel(n_jobs=-1)]: Done 60000 out of 60000 | elapsed:   49.9s finished\n"
     ]
    },
    {
     "data": {
      "text/plain": [
       "GridSearchCV(cv=10, estimator=Ridge(), n_jobs=-1,\n",
       "             param_grid={'alpha': array([1.00000000e-07, 1.02096066e-07, 1.04236067e-07, 1.06420924e-07,\n",
       "       1.08651577e-07, 1.10928986e-07, 1.13254132e-07, 1.15628013e-07,\n",
       "       1.18051653e-07, 1.20526094e-07, 1.23052400e-07, 1.25631660e-07,\n",
       "       1.28264983e-07, 1.30953502e-07, 1.33698374e-07, 1.36500781e-07,\n",
       "       1.39361927e-07, 1.42283046e-07, 1.4526...\n",
       "       6.74262224e+01, 6.88395207e+01, 7.02824426e+01, 7.17556092e+01,\n",
       "       7.32596543e+01, 7.47952252e+01, 7.63629826e+01, 7.79636013e+01,\n",
       "       7.95977700e+01, 8.12661920e+01, 8.29695852e+01, 8.47086827e+01,\n",
       "       8.64842328e+01, 8.82969996e+01, 9.01477631e+01, 9.20373200e+01,\n",
       "       9.39664831e+01, 9.59360829e+01, 9.79469667e+01, 1.00000000e+02]),\n",
       "                         'solver': ['svd', 'cholesky', 'lsqr', 'sparse_cg',\n",
       "                                    'sag', 'saga']},\n",
       "             verbose=2)"
      ]
     },
     "execution_count": 13,
     "metadata": {},
     "output_type": "execute_result"
    }
   ],
   "source": [
    "# Для ридж-регрессии можно еще перебрать оптимизаторы\n",
    "rige_params = {\n",
    "    'alpha': np.logspace(-7, 2, 1000),\n",
    "    'solver': ['svd', 'cholesky', 'lsqr', 'sparse_cg', 'sag', 'saga']\n",
    "}\n",
    "grid_rige = GridSearchCV(rige_reg, rige_params, cv=10, verbose=2, n_jobs=-1)\n",
    "grid_rige.fit(X_train, y_train)"
   ]
  },
  {
   "cell_type": "code",
   "execution_count": 14,
   "metadata": {},
   "outputs": [
    {
     "name": "stdout",
     "output_type": "stream",
     "text": [
      "{'alpha': 5.366976945540476, 'solver': 'sag'}\n",
      "0.7025283390235914\n",
      "Ridge(alpha=5.366976945540476, solver='sag')\n"
     ]
    }
   ],
   "source": [
    "print(grid_rige.best_params_)\n",
    "print(grid_rige.best_score_)\n",
    "print(grid_rige.best_estimator_)"
   ]
  },
  {
   "cell_type": "code",
   "execution_count": 16,
   "metadata": {},
   "outputs": [],
   "source": [
    "#регрессия хьюберта\n",
    "\n",
    "\n",
    "huber_reg = HuberRegressor()"
   ]
  },
  {
   "cell_type": "code",
   "execution_count": 17,
   "metadata": {},
   "outputs": [
    {
     "name": "stdout",
     "output_type": "stream",
     "text": [
      "Fitting 10 folds for each of 5000 candidates, totalling 50000 fits\n"
     ]
    },
    {
     "name": "stderr",
     "output_type": "stream",
     "text": [
      "[Parallel(n_jobs=-1)]: Using backend LokyBackend with 4 concurrent workers.\n",
      "[Parallel(n_jobs=-1)]: Done  38 tasks      | elapsed:    2.3s\n",
      "[Parallel(n_jobs=-1)]: Done 1772 tasks      | elapsed:    9.1s\n",
      "[Parallel(n_jobs=-1)]: Done 5020 tasks      | elapsed:   21.2s\n",
      "[Parallel(n_jobs=-1)]: Done 9548 tasks      | elapsed:   37.6s\n",
      "[Parallel(n_jobs=-1)]: Done 15388 tasks      | elapsed:   59.5s\n",
      "[Parallel(n_jobs=-1)]: Done 22508 tasks      | elapsed:  1.4min\n",
      "[Parallel(n_jobs=-1)]: Done 30940 tasks      | elapsed:  1.9min\n",
      "[Parallel(n_jobs=-1)]: Done 40652 tasks      | elapsed:  2.5min\n",
      "[Parallel(n_jobs=-1)]: Done 50000 out of 50000 | elapsed:  2.9min finished\n"
     ]
    },
    {
     "data": {
      "text/plain": [
       "GridSearchCV(cv=10, estimator=HuberRegressor(), n_jobs=-1,\n",
       "             param_grid={'alpha': array([1.00000000e-07, 1.23284674e-07, 1.51991108e-07, 1.87381742e-07,\n",
       "       2.31012970e-07, 2.84803587e-07, 3.51119173e-07, 4.32876128e-07,\n",
       "       5.33669923e-07, 6.57933225e-07, 8.11130831e-07, 1.00000000e-06,\n",
       "       1.23284674e-06, 1.51991108e-06, 1.87381742e-06, 2.31012970e-06,\n",
       "       2.84803587e-06, 3.51119173e-...\n",
       "       1.54897959, 1.5622449 , 1.5755102 , 1.58877551, 1.60204082,\n",
       "       1.61530612, 1.62857143, 1.64183673, 1.65510204, 1.66836735,\n",
       "       1.68163265, 1.69489796, 1.70816327, 1.72142857, 1.73469388,\n",
       "       1.74795918, 1.76122449, 1.7744898 , 1.7877551 , 1.80102041,\n",
       "       1.81428571, 1.82755102, 1.84081633, 1.85408163, 1.86734694,\n",
       "       1.88061224, 1.89387755, 1.90714286, 1.92040816, 1.93367347,\n",
       "       1.94693878, 1.96020408, 1.97346939, 1.98673469, 2.        ])},\n",
       "             verbose=2)"
      ]
     },
     "execution_count": 17,
     "metadata": {},
     "output_type": "execute_result"
    }
   ],
   "source": [
    "huber_params = {\n",
    "    'alpha': np.logspace(-7, 2, 100),\n",
    "    'epsilon': np.linspace(1.35, 2, 50)\n",
    "}\n",
    "grid_huber = GridSearchCV(huber_reg, huber_params, cv=10, verbose=2, n_jobs=-1)\n",
    "grid_huber.fit(X_train, y_train)"
   ]
  },
  {
   "cell_type": "code",
   "execution_count": 18,
   "metadata": {},
   "outputs": [
    {
     "name": "stdout",
     "output_type": "stream",
     "text": [
      "{'alpha': 1e-07, 'epsilon': 2.0}\n",
      "0.6935840110172777\n",
      "HuberRegressor(alpha=1e-07, epsilon=2.0)\n"
     ]
    }
   ],
   "source": [
    "print(grid_huber.best_params_)\n",
    "print(grid_huber.best_score_)\n",
    "print(grid_huber.best_estimator_)"
   ]
  },
  {
   "cell_type": "code",
   "execution_count": 19,
   "metadata": {},
   "outputs": [],
   "source": [
    "#Еlastic net\n",
    "\n",
    "\n",
    "elast_reg = ElasticNet()"
   ]
  },
  {
   "cell_type": "code",
   "execution_count": 20,
   "metadata": {},
   "outputs": [
    {
     "name": "stdout",
     "output_type": "stream",
     "text": [
      "Fitting 10 folds for each of 10000 candidates, totalling 100000 fits\n"
     ]
    },
    {
     "name": "stderr",
     "output_type": "stream",
     "text": [
      "[Parallel(n_jobs=-1)]: Using backend LokyBackend with 4 concurrent workers.\n",
      "[Parallel(n_jobs=-1)]: Done 136 tasks      | elapsed:    0.2s\n",
      "[Parallel(n_jobs=-1)]: Done 7288 tasks      | elapsed:    7.7s\n",
      "[Parallel(n_jobs=-1)]: Done 20280 tasks      | elapsed:   22.3s\n",
      "[Parallel(n_jobs=-1)]: Done 38392 tasks      | elapsed:   40.6s\n",
      "[Parallel(n_jobs=-1)]: Done 61752 tasks      | elapsed:  1.0min\n",
      "[Parallel(n_jobs=-1)]: Done 90232 tasks      | elapsed:  1.4min\n",
      "[Parallel(n_jobs=-1)]: Done 100000 out of 100000 | elapsed:  1.5min finished\n"
     ]
    },
    {
     "data": {
      "text/plain": [
       "GridSearchCV(cv=10, estimator=ElasticNet(), n_jobs=-1,\n",
       "             param_grid={'alpha': array([1.00000000e-07, 1.10975250e-07, 1.23155060e-07, 1.36671636e-07,\n",
       "       1.51671689e-07, 1.68318035e-07, 1.86791360e-07, 2.07292178e-07,\n",
       "       2.30043012e-07, 2.55290807e-07, 2.83309610e-07, 3.14403547e-07,\n",
       "       3.48910121e-07, 3.87203878e-07, 4.29700470e-07, 4.76861170e-07,\n",
       "       5.29197874e-07, 5.87278661e-07, 6...\n",
       "       0.30612245, 0.32653061, 0.34693878, 0.36734694, 0.3877551 ,\n",
       "       0.40816327, 0.42857143, 0.44897959, 0.46938776, 0.48979592,\n",
       "       0.51020408, 0.53061224, 0.55102041, 0.57142857, 0.59183673,\n",
       "       0.6122449 , 0.63265306, 0.65306122, 0.67346939, 0.69387755,\n",
       "       0.71428571, 0.73469388, 0.75510204, 0.7755102 , 0.79591837,\n",
       "       0.81632653, 0.83673469, 0.85714286, 0.87755102, 0.89795918,\n",
       "       0.91836735, 0.93877551, 0.95918367, 0.97959184, 1.        ])},\n",
       "             verbose=2)"
      ]
     },
     "execution_count": 20,
     "metadata": {},
     "output_type": "execute_result"
    }
   ],
   "source": [
    "elast_params = {\n",
    "    'alpha': np.logspace(-7, 2, 200),\n",
    "    'l1_ratio': np.linspace(0, 1, 50)\n",
    "}\n",
    "grid_elast = GridSearchCV(elast_reg, elast_params, cv=10, verbose=2, n_jobs=-1)\n",
    "grid_elast.fit(X_train, y_train)"
   ]
  },
  {
   "cell_type": "code",
   "execution_count": 21,
   "metadata": {},
   "outputs": [
    {
     "name": "stdout",
     "output_type": "stream",
     "text": [
      "{'alpha': 0.02409403560239527, 'l1_ratio': 0.836734693877551}\n",
      "0.7026251113760931\n",
      "ElasticNet(alpha=0.02409403560239527, l1_ratio=0.836734693877551)\n"
     ]
    }
   ],
   "source": [
    "print(grid_elast.best_params_)\n",
    "print(grid_elast.best_score_)\n",
    "print(grid_elast.best_estimator_)"
   ]
  },
  {
   "cell_type": "code",
   "execution_count": 22,
   "metadata": {},
   "outputs": [],
   "source": [
    "#decesion tree регрессия\n",
    "\n",
    "tree_reg = DecisionTreeRegressor()\n",
    "\n"
   ]
  },
  {
   "cell_type": "code",
   "execution_count": 23,
   "metadata": {},
   "outputs": [
    {
     "name": "stdout",
     "output_type": "stream",
     "text": [
      "Fitting 10 folds for each of 300 candidates, totalling 3000 fits\n"
     ]
    },
    {
     "name": "stderr",
     "output_type": "stream",
     "text": [
      "[Parallel(n_jobs=-1)]: Using backend LokyBackend with 4 concurrent workers.\n",
      "[Parallel(n_jobs=-1)]: Done 136 tasks      | elapsed:    0.1s\n",
      "[Parallel(n_jobs=-1)]: Done 3000 out of 3000 | elapsed:    5.2s finished\n"
     ]
    },
    {
     "data": {
      "text/plain": [
       "GridSearchCV(cv=10, estimator=DecisionTreeRegressor(), n_jobs=-1,\n",
       "             param_grid={'criterion': ['mse', 'mae', 'friedman_mse'],\n",
       "                         'max_depth': range(1, 11),\n",
       "                         'min_samples_leaf': [1, 2, 4, 8, 16],\n",
       "                         'splitter': ['best', 'random']},\n",
       "             verbose=2)"
      ]
     },
     "execution_count": 23,
     "metadata": {},
     "output_type": "execute_result"
    }
   ],
   "source": [
    "\n",
    "tree_params = {\n",
    "    'max_depth': range(1, 11),\n",
    "    'splitter': ['best', 'random'],\n",
    "    'criterion': ['mse', 'mae', 'friedman_mse'],\n",
    "    'min_samples_leaf': [1, 2, 4, 8, 16]\n",
    "}\n",
    "grid_tree = GridSearchCV(tree_reg, tree_params, cv=10, verbose=2, n_jobs=-1)\n",
    "grid_tree.fit(X_train, y_train)"
   ]
  },
  {
   "cell_type": "code",
   "execution_count": 24,
   "metadata": {},
   "outputs": [
    {
     "name": "stdout",
     "output_type": "stream",
     "text": [
      "{'criterion': 'mse', 'max_depth': 5, 'min_samples_leaf': 4, 'splitter': 'best'}\n",
      "0.8273931342605598\n",
      "DecisionTreeRegressor(max_depth=5, min_samples_leaf=4)\n"
     ]
    }
   ],
   "source": [
    "print(grid_tree.best_params_)\n",
    "print(grid_tree.best_score_)\n",
    "print(grid_tree.best_estimator_)"
   ]
  },
  {
   "cell_type": "code",
   "execution_count": 26,
   "metadata": {},
   "outputs": [
    {
     "data": {
      "text/plain": [
       "LinearRegression()"
      ]
     },
     "execution_count": 26,
     "metadata": {},
     "output_type": "execute_result"
    }
   ],
   "source": [
    "#обычная линейна регрессия. У нее нет параметров.\n",
    "\n",
    "\n",
    "slr = LinearRegression()\n",
    "slr.fit(X_train, y_train)"
   ]
  },
  {
   "cell_type": "code",
   "execution_count": 28,
   "metadata": {},
   "outputs": [
    {
     "data": {
      "text/plain": [
       "0.7876889689605993"
      ]
     },
     "execution_count": 28,
     "metadata": {},
     "output_type": "execute_result"
    }
   ],
   "source": [
    "slr.score(X_valid,y_valid)"
   ]
  },
  {
   "cell_type": "code",
   "execution_count": 30,
   "metadata": {},
   "outputs": [],
   "source": [
    "#bayes Ridge\n",
    "\n",
    "Bayes_rige_reg = BayesianRidge()"
   ]
  },
  {
   "cell_type": "code",
   "execution_count": 36,
   "metadata": {},
   "outputs": [
    {
     "name": "stdout",
     "output_type": "stream",
     "text": [
      "Fitting 10 folds for each of 1000 candidates, totalling 10000 fits\n"
     ]
    },
    {
     "name": "stderr",
     "output_type": "stream",
     "text": [
      "[Parallel(n_jobs=-1)]: Using backend LokyBackend with 4 concurrent workers.\n",
      "[Parallel(n_jobs=-1)]: Done  44 tasks      | elapsed:    1.6s\n",
      "[Parallel(n_jobs=-1)]: Done 9698 tasks      | elapsed:    8.5s\n",
      "[Parallel(n_jobs=-1)]: Done 10000 out of 10000 | elapsed:    8.6s finished\n"
     ]
    },
    {
     "data": {
      "text/plain": [
       "GridSearchCV(cv=10, estimator=BayesianRidge(), n_jobs=-1,\n",
       "             param_grid={'alpha_1': array([1.00000000e-07, 1.02096066e-07, 1.04236067e-07, 1.06420924e-07,\n",
       "       1.08651577e-07, 1.10928986e-07, 1.13254132e-07, 1.15628013e-07,\n",
       "       1.18051653e-07, 1.20526094e-07, 1.23052400e-07, 1.25631660e-07,\n",
       "       1.28264983e-07, 1.30953502e-07, 1.33698374e-07, 1.36500781e-07,\n",
       "       1.39361927e-07, 1.42283046e...\n",
       "       6.20572881e+01, 6.33580499e+01, 6.46860766e+01, 6.60419396e+01,\n",
       "       6.74262224e+01, 6.88395207e+01, 7.02824426e+01, 7.17556092e+01,\n",
       "       7.32596543e+01, 7.47952252e+01, 7.63629826e+01, 7.79636013e+01,\n",
       "       7.95977700e+01, 8.12661920e+01, 8.29695852e+01, 8.47086827e+01,\n",
       "       8.64842328e+01, 8.82969996e+01, 9.01477631e+01, 9.20373200e+01,\n",
       "       9.39664831e+01, 9.59360829e+01, 9.79469667e+01, 1.00000000e+02])},\n",
       "             verbose=2)"
      ]
     },
     "execution_count": 36,
     "metadata": {},
     "output_type": "execute_result"
    }
   ],
   "source": [
    "Bayes_rige_params = {\n",
    "    'alpha_1': np.logspace(-7, 2, 1000),\n",
    "}\n",
    "\n",
    "\n",
    "grid_bayes_rige = GridSearchCV(Bayes_rige_reg, Bayes_rige_params, cv=10, verbose=2, n_jobs=-1)\n",
    "grid_bayes_rige.fit(X_train, y_train)"
   ]
  },
  {
   "cell_type": "code",
   "execution_count": 37,
   "metadata": {},
   "outputs": [
    {
     "name": "stdout",
     "output_type": "stream",
     "text": [
      "{'alpha_1': 19.828839491270674}\n",
      "0.7024022630674683\n",
      "BayesianRidge(alpha_1=19.828839491270674)\n"
     ]
    }
   ],
   "source": [
    "print(grid_bayes_rige.best_params_)\n",
    "print(grid_bayes_rige.best_score_)\n",
    "print(grid_bayes_rige.best_estimator_)"
   ]
  },
  {
   "cell_type": "code",
   "execution_count": 44,
   "metadata": {},
   "outputs": [],
   "source": [
    "#LassoLars\n",
    "Lars = LassoLars()"
   ]
  },
  {
   "cell_type": "code",
   "execution_count": 46,
   "metadata": {},
   "outputs": [
    {
     "name": "stdout",
     "output_type": "stream",
     "text": [
      "Fitting 10 folds for each of 1000 candidates, totalling 10000 fits\n"
     ]
    },
    {
     "name": "stderr",
     "output_type": "stream",
     "text": [
      "[Parallel(n_jobs=-1)]: Using backend LokyBackend with 4 concurrent workers.\n",
      "[Parallel(n_jobs=-1)]: Done  39 tasks      | elapsed:    1.5s\n",
      "[Parallel(n_jobs=-1)]: Done 3276 tasks      | elapsed:    6.9s\n",
      "[Parallel(n_jobs=-1)]: Done 10000 out of 10000 | elapsed:   13.2s finished\n"
     ]
    },
    {
     "data": {
      "text/plain": [
       "GridSearchCV(cv=10, estimator=LassoLars(), n_jobs=-1,\n",
       "             param_grid={'alpha': array([1.00000000e-07, 1.02096066e-07, 1.04236067e-07, 1.06420924e-07,\n",
       "       1.08651577e-07, 1.10928986e-07, 1.13254132e-07, 1.15628013e-07,\n",
       "       1.18051653e-07, 1.20526094e-07, 1.23052400e-07, 1.25631660e-07,\n",
       "       1.28264983e-07, 1.30953502e-07, 1.33698374e-07, 1.36500781e-07,\n",
       "       1.39361927e-07, 1.42283046e-07, 1....\n",
       "       6.20572881e+01, 6.33580499e+01, 6.46860766e+01, 6.60419396e+01,\n",
       "       6.74262224e+01, 6.88395207e+01, 7.02824426e+01, 7.17556092e+01,\n",
       "       7.32596543e+01, 7.47952252e+01, 7.63629826e+01, 7.79636013e+01,\n",
       "       7.95977700e+01, 8.12661920e+01, 8.29695852e+01, 8.47086827e+01,\n",
       "       8.64842328e+01, 8.82969996e+01, 9.01477631e+01, 9.20373200e+01,\n",
       "       9.39664831e+01, 9.59360829e+01, 9.79469667e+01, 1.00000000e+02])},\n",
       "             verbose=2)"
      ]
     },
     "execution_count": 46,
     "metadata": {},
     "output_type": "execute_result"
    }
   ],
   "source": [
    "LassoLars_params = {\n",
    "    'alpha': np.logspace(-7, 2, 1000),\n",
    "}\n",
    "\n",
    "\n",
    "grid_lassolars = GridSearchCV(Lars, LassoLars_params, cv=10, verbose=2, n_jobs=-1)\n",
    "grid_lassolars.fit(X_train, y_train)"
   ]
  },
  {
   "cell_type": "code",
   "execution_count": 47,
   "metadata": {},
   "outputs": [
    {
     "name": "stdout",
     "output_type": "stream",
     "text": [
      "{'alpha': 0.0013936192742241434}\n",
      "0.7026231531308358\n",
      "LassoLars(alpha=0.0013936192742241434)\n"
     ]
    }
   ],
   "source": [
    "print(grid_lassolars.best_params_)\n",
    "print(grid_lassolars.best_score_)\n",
    "print(grid_lassolars.best_estimator_)"
   ]
  },
  {
   "cell_type": "code",
   "execution_count": 48,
   "metadata": {},
   "outputs": [],
   "source": [
    "\n",
    "estimators = {\n",
    "    'lasso': grid_lasso,\n",
    "    'rige': grid_rige,\n",
    "    'huber': grid_huber,\n",
    "    'elasticNet': grid_elast,\n",
    "    'tree': grid_tree,\n",
    "    'bayes_ridge': grid_bayes_rige,\n",
    "    'Lars': grid_lassolars\n",
    "    \n",
    "}"
   ]
  },
  {
   "cell_type": "code",
   "execution_count": 49,
   "metadata": {},
   "outputs": [
    {
     "name": "stdout",
     "output_type": "stream",
     "text": [
      "lasso CV R^2: 0.7025855205825211 Validation R^2: 0.7893934795225268\n",
      "rige CV R^2: 0.7025283390235914 Validation R^2: 0.7902430561211303\n",
      "huber CV R^2: 0.6935840110172777 Validation R^2: 0.8013361794608574\n",
      "elasticNet CV R^2: 0.7026251113760931 Validation R^2: 0.7898288443046595\n",
      "tree CV R^2: 0.8273931342605598 Validation R^2: 0.8349595522440767\n",
      "bayes_ridge CV R^2: 0.7024022630674683 Validation R^2: 0.7903741380893042\n",
      "Lars CV R^2: 0.7026231531308358 Validation R^2: 0.7894939688085566\n"
     ]
    }
   ],
   "source": [
    "for k in estimators:\n",
    "    v = estimators[k]\n",
    "    print(k, \"CV R^2:\", v.best_score_, \"Validation R^2:\", v.best_estimator_.score(X_valid, y_valid))"
   ]
  },
  {
   "cell_type": "code",
   "execution_count": 51,
   "metadata": {},
   "outputs": [
    {
     "data": {
      "text/plain": [
       "0.7876889689605993"
      ]
     },
     "execution_count": 51,
     "metadata": {},
     "output_type": "execute_result"
    }
   ],
   "source": [
    "#у обычной линейной скор 79%\n",
    "slr.score(X_valid,y_valid)"
   ]
  },
  {
   "cell_type": "markdown",
   "metadata": {},
   "source": [
    "Из всех что выбрали самое крутая это дерево!"
   ]
  },
  {
   "cell_type": "code",
   "execution_count": null,
   "metadata": {},
   "outputs": [],
   "source": []
  }
 ],
 "metadata": {
  "kernelspec": {
   "display_name": "Python 3",
   "language": "python",
   "name": "python3"
  },
  "language_info": {
   "codemirror_mode": {
    "name": "ipython",
    "version": 3
   },
   "file_extension": ".py",
   "mimetype": "text/x-python",
   "name": "python",
   "nbconvert_exporter": "python",
   "pygments_lexer": "ipython3",
   "version": "3.8.3"
  }
 },
 "nbformat": 4,
 "nbformat_minor": 4
}
