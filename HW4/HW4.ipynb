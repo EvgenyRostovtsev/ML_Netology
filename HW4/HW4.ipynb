{
 "cells": [
  {
   "cell_type": "code",
   "execution_count": 1,
   "metadata": {},
   "outputs": [],
   "source": [
    "import numpy as np\n",
    "import pandas as pd\n",
    "\n",
    "from sklearn.linear_model import LinearRegression"
   ]
  },
  {
   "cell_type": "code",
   "execution_count": 2,
   "metadata": {},
   "outputs": [
    {
     "data": {
      "text/html": [
       "<div>\n",
       "<style scoped>\n",
       "    .dataframe tbody tr th:only-of-type {\n",
       "        vertical-align: middle;\n",
       "    }\n",
       "\n",
       "    .dataframe tbody tr th {\n",
       "        vertical-align: top;\n",
       "    }\n",
       "\n",
       "    .dataframe thead th {\n",
       "        text-align: right;\n",
       "    }\n",
       "</style>\n",
       "<table border=\"1\" class=\"dataframe\">\n",
       "  <thead>\n",
       "    <tr style=\"text-align: right;\">\n",
       "      <th></th>\n",
       "      <th>home_age</th>\n",
       "      <th>room_number</th>\n",
       "      <th>area</th>\n",
       "      <th>price</th>\n",
       "      <th>q_levels</th>\n",
       "      <th>windows</th>\n",
       "    </tr>\n",
       "  </thead>\n",
       "  <tbody>\n",
       "    <tr>\n",
       "      <th>0</th>\n",
       "      <td>79</td>\n",
       "      <td>4</td>\n",
       "      <td>1032</td>\n",
       "      <td>81532</td>\n",
       "      <td>10</td>\n",
       "      <td>12</td>\n",
       "    </tr>\n",
       "    <tr>\n",
       "      <th>1</th>\n",
       "      <td>73</td>\n",
       "      <td>6</td>\n",
       "      <td>203</td>\n",
       "      <td>14825</td>\n",
       "      <td>5</td>\n",
       "      <td>12</td>\n",
       "    </tr>\n",
       "    <tr>\n",
       "      <th>2</th>\n",
       "      <td>45</td>\n",
       "      <td>6</td>\n",
       "      <td>800</td>\n",
       "      <td>36006</td>\n",
       "      <td>12</td>\n",
       "      <td>10</td>\n",
       "    </tr>\n",
       "    <tr>\n",
       "      <th>3</th>\n",
       "      <td>22</td>\n",
       "      <td>7</td>\n",
       "      <td>828</td>\n",
       "      <td>18223</td>\n",
       "      <td>16</td>\n",
       "      <td>10</td>\n",
       "    </tr>\n",
       "    <tr>\n",
       "      <th>4</th>\n",
       "      <td>25</td>\n",
       "      <td>7</td>\n",
       "      <td>231</td>\n",
       "      <td>5782</td>\n",
       "      <td>9</td>\n",
       "      <td>11</td>\n",
       "    </tr>\n",
       "  </tbody>\n",
       "</table>\n",
       "</div>"
      ],
      "text/plain": [
       "   home_age  room_number  area  price  q_levels  windows\n",
       "0        79            4  1032  81532        10       12\n",
       "1        73            6   203  14825         5       12\n",
       "2        45            6   800  36006        12       10\n",
       "3        22            7   828  18223        16       10\n",
       "4        25            7   231   5782         9       11"
      ]
     },
     "execution_count": 2,
     "metadata": {},
     "output_type": "execute_result"
    }
   ],
   "source": [
    "# Создаём сэмпл дата сет по информации по цене домов, возрасту домов, кол-во комнат, площади, кол-ву этажей, и колву окон\n",
    "n_samples = 700\n",
    "\n",
    "home_age = np.random.choice(90, n_samples) + 10 # возраст дома\n",
    "room_number = np.random.choice(5, n_samples) + 3 #кол-во комнат\n",
    "area = np.random.choice(1000, n_samples) + 200 # площадь дома\n",
    "q_levels = np.random.choice(15, n_samples) + 5 #кол-во этажей\n",
    "windows = np.random.choice(4, n_samples) +10 #кол-во окон\n",
    "\n",
    "price = area * home_age  + room_number \n",
    "\n",
    "data = pd.DataFrame({'home_age': home_age, 'room_number': room_number, 'area': area, 'price': price, 'q_levels':q_levels,\n",
    "                     'windows': windows})\n",
    "data.head(5)"
   ]
  },
  {
   "cell_type": "code",
   "execution_count": 3,
   "metadata": {},
   "outputs": [
    {
     "name": "stdout",
     "output_type": "stream",
     "text": [
      "Weights: [ 703.01309174 -151.4183922    54.7898664   -14.55250565  388.49464348]\n",
      "Bias: -42012.61800335522\n",
      "Error: 5578.765980804988\n"
     ]
    }
   ],
   "source": [
    "#подставляем все параметры в нашу модель для предсказания цены.\n",
    "\n",
    "from sklearn.metrics import mean_absolute_error\n",
    "\n",
    "X = data[['home_age', 'room_number', 'area', 'q_levels', 'windows']]\n",
    "y = data['price']\n",
    "reg = LinearRegression().fit(X, y)\n",
    "print('Weights: {}'.format(reg.coef_))\n",
    "print('Bias: {}'.format(reg.intercept_))\n",
    "\n",
    "pred_values = reg.predict(data[['home_age', 'room_number', 'area', 'q_levels', 'windows']])\n",
    "print('Error: {}'.format(mean_absolute_error(pred_values, y)))"
   ]
  },
  {
   "cell_type": "markdown",
   "metadata": {},
   "source": [
    "Видим, что ошибка очень большая. 5тыс руб на среднюю цену 37 тыс руб."
   ]
  },
  {
   "cell_type": "code",
   "execution_count": 4,
   "metadata": {},
   "outputs": [
    {
     "data": {
      "text/plain": [
       "38526.66714285714"
      ]
     },
     "execution_count": 4,
     "metadata": {},
     "output_type": "execute_result"
    }
   ],
   "source": [
    "y.mean()"
   ]
  },
  {
   "cell_type": "code",
   "execution_count": 5,
   "metadata": {},
   "outputs": [
    {
     "name": "stdout",
     "output_type": "stream",
     "text": [
      "Weights: [ 702.99723828 -164.21978433   54.73570212]\n",
      "Bias: -37598.66578544189\n",
      "Error: 5575.108015438207\n"
     ]
    }
   ],
   "source": [
    "#уберем лишние параметры. кол-во окон и этажей\n",
    "from sklearn.metrics import mean_absolute_error\n",
    "\n",
    "X = data[['home_age', 'room_number', 'area']]\n",
    "y = data['price']\n",
    "reg = LinearRegression().fit(X, y)\n",
    "print('Weights: {}'.format(reg.coef_))\n",
    "print('Bias: {}'.format(reg.intercept_))\n",
    "\n",
    "pred_values = reg.predict(data[['home_age', 'room_number', 'area']])\n",
    "print('Error: {}'.format(mean_absolute_error(pred_values, y)))"
   ]
  },
  {
   "cell_type": "markdown",
   "metadata": {},
   "source": [
    "Ошибка особо не поменялась, потому что кол-во этажей и окон не влияет на цену дома в нашей моделе"
   ]
  },
  {
   "cell_type": "code",
   "execution_count": 6,
   "metadata": {},
   "outputs": [
    {
     "data": {
      "text/html": [
       "<div>\n",
       "<style scoped>\n",
       "    .dataframe tbody tr th:only-of-type {\n",
       "        vertical-align: middle;\n",
       "    }\n",
       "\n",
       "    .dataframe tbody tr th {\n",
       "        vertical-align: top;\n",
       "    }\n",
       "\n",
       "    .dataframe thead th {\n",
       "        text-align: right;\n",
       "    }\n",
       "</style>\n",
       "<table border=\"1\" class=\"dataframe\">\n",
       "  <thead>\n",
       "    <tr style=\"text-align: right;\">\n",
       "      <th></th>\n",
       "      <th>home_age</th>\n",
       "      <th>room_number</th>\n",
       "      <th>area</th>\n",
       "      <th>price</th>\n",
       "      <th>q_levels</th>\n",
       "      <th>windows</th>\n",
       "      <th>mult</th>\n",
       "    </tr>\n",
       "  </thead>\n",
       "  <tbody>\n",
       "    <tr>\n",
       "      <th>0</th>\n",
       "      <td>79</td>\n",
       "      <td>4</td>\n",
       "      <td>1032</td>\n",
       "      <td>81532</td>\n",
       "      <td>10</td>\n",
       "      <td>12</td>\n",
       "      <td>81532</td>\n",
       "    </tr>\n",
       "    <tr>\n",
       "      <th>1</th>\n",
       "      <td>73</td>\n",
       "      <td>6</td>\n",
       "      <td>203</td>\n",
       "      <td>14825</td>\n",
       "      <td>5</td>\n",
       "      <td>12</td>\n",
       "      <td>14825</td>\n",
       "    </tr>\n",
       "    <tr>\n",
       "      <th>2</th>\n",
       "      <td>45</td>\n",
       "      <td>6</td>\n",
       "      <td>800</td>\n",
       "      <td>36006</td>\n",
       "      <td>12</td>\n",
       "      <td>10</td>\n",
       "      <td>36006</td>\n",
       "    </tr>\n",
       "    <tr>\n",
       "      <th>3</th>\n",
       "      <td>22</td>\n",
       "      <td>7</td>\n",
       "      <td>828</td>\n",
       "      <td>18223</td>\n",
       "      <td>16</td>\n",
       "      <td>10</td>\n",
       "      <td>18223</td>\n",
       "    </tr>\n",
       "    <tr>\n",
       "      <th>4</th>\n",
       "      <td>25</td>\n",
       "      <td>7</td>\n",
       "      <td>231</td>\n",
       "      <td>5782</td>\n",
       "      <td>9</td>\n",
       "      <td>11</td>\n",
       "      <td>5782</td>\n",
       "    </tr>\n",
       "  </tbody>\n",
       "</table>\n",
       "</div>"
      ],
      "text/plain": [
       "   home_age  room_number  area  price  q_levels  windows   mult\n",
       "0        79            4  1032  81532        10       12  81532\n",
       "1        73            6   203  14825         5       12  14825\n",
       "2        45            6   800  36006        12       10  36006\n",
       "3        22            7   828  18223        16       10  18223\n",
       "4        25            7   231   5782         9       11   5782"
      ]
     },
     "execution_count": 6,
     "metadata": {},
     "output_type": "execute_result"
    }
   ],
   "source": [
    "# Создаем новый линейный признак\n",
    "data['mult'] = data['home_age'] * data['area'] + data['room_number']\n",
    "data.head(5)"
   ]
  },
  {
   "cell_type": "code",
   "execution_count": 7,
   "metadata": {},
   "outputs": [
    {
     "name": "stdout",
     "output_type": "stream",
     "text": [
      "Weights: [1.]\n",
      "Bias: 1.0186340659856796e-10\n",
      "Error: 5.482109242750864e-11\n"
     ]
    }
   ],
   "source": [
    "X = data[['mult']]\n",
    "y = data['price']\n",
    "reg = LinearRegression().fit(X, y)\n",
    "print('Weights: {}'.format(reg.coef_))\n",
    "print('Bias: {}'.format(reg.intercept_))\n",
    "\n",
    "pred_values = reg.predict(data[['mult']])\n",
    "print('Error: {}'.format(mean_absolute_error(pred_values, y)))"
   ]
  },
  {
   "cell_type": "code",
   "execution_count": 8,
   "metadata": {},
   "outputs": [
    {
     "data": {
      "text/plain": [
       "38526.66714285714"
      ]
     },
     "execution_count": 8,
     "metadata": {},
     "output_type": "execute_result"
    }
   ],
   "source": [
    "y.mean()"
   ]
  },
  {
   "cell_type": "markdown",
   "metadata": {},
   "source": [
    "Теперь так как у нас модель полностью линейная, то велечина ошибки минимальная"
   ]
  },
  {
   "cell_type": "code",
   "execution_count": null,
   "metadata": {},
   "outputs": [],
   "source": []
  },
  {
   "cell_type": "code",
   "execution_count": null,
   "metadata": {},
   "outputs": [],
   "source": []
  }
 ],
 "metadata": {
  "kernelspec": {
   "display_name": "Python 3",
   "language": "python",
   "name": "python3"
  },
  "language_info": {
   "codemirror_mode": {
    "name": "ipython",
    "version": 3
   },
   "file_extension": ".py",
   "mimetype": "text/x-python",
   "name": "python",
   "nbconvert_exporter": "python",
   "pygments_lexer": "ipython3",
   "version": "3.8.3"
  }
 },
 "nbformat": 4,
 "nbformat_minor": 4
}
